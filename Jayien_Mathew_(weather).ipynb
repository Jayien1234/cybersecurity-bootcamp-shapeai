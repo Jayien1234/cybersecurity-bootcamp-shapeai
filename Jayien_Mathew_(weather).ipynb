{
  "nbformat": 4,
  "nbformat_minor": 0,
  "metadata": {
    "colab": {
      "name": "Jayien Mathew (weather).ipynb",
      "provenance": []
    },
    "kernelspec": {
      "name": "python3",
      "display_name": "Python 3"
    },
    "language_info": {
      "name": "python"
    }
  },
  "cells": [
    {
      "cell_type": "code",
      "metadata": {
        "colab": {
          "base_uri": "https://localhost:8080/"
        },
        "id": "sDQ7AFVg4Ltk",
        "outputId": "6f93ebe7-fab4-4530-e33a-e9961faa1ebb"
      },
      "source": [
        "import requests\n",
        "from datetime import datetime\n",
        "api_key = '9142e8c7d560536f4e8f1e0ba492d9d6'\n",
        "location = input(\"Enter the city name:\")\n",
        "complete_api_link = \" https://api.openweathermap.org/data/2.5/weather?q=\"+location+\"&appid=\"+api_key\n",
        "api_link = requests.get(complete_api_link)\n",
        "api_data = api_link.json()\n",
        "temp_city =((api_data['main']['temp']) - 273.15)\n",
        "weather_desc = api_data['weather'] [0] ['description']\n",
        "hmdt = api_data['main'] ['humidity']\n",
        "wind_spd = api_data['wind'] ['speed']\n",
        "date_time = datetime.now() .strftime(\"%d %b %Y | %I:%M:%S %p\")\n",
        "print (\"------------------------------------------------------------\") \n",
        "print (\"Weather status for -{} || {}\".format(location.upper(), date_time))\n",
        "print (\"------------------------------------------------------------\") \n",
        "print (\"Current temperature is: {:.2f} deg C\".format(temp_city))\n",
        "print (\"Current weather desc  :\",weather_desc)\n",
        "print (\"Current Humidity      :\",hmdt,'%')\n",
        "print (\"Current wind speed    :\",wind_spd ,'kmph')\n"
      ],
      "execution_count": 14,
      "outputs": [
        {
          "output_type": "stream",
          "text": [
            "Enter the city name:pathanamthitta\n",
            "------------------------------------------------------------\n",
            "Weather status for -PATHANAMTHITTA || 22 Jun 2021 | 07:58:24 AM\n",
            "------------------------------------------------------------\n",
            "Current temperature is: 29.41 deg C\n",
            "Current weather desc  : heavy intensity rain\n",
            "Current Humidity      : 71 %\n",
            "Current wind speed    : 3.41 kmph\n"
          ],
          "name": "stdout"
        }
      ]
    },
    {
      "cell_type": "code",
      "metadata": {
        "id": "MUY_9MWI9-4d"
      },
      "source": [
        ""
      ],
      "execution_count": null,
      "outputs": []
    }
  ]
}